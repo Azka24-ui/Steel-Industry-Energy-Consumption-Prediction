{
 "cells": [
  {
   "cell_type": "code",
   "execution_count": null,
   "metadata": {},
   "outputs": [
    {
     "name": "stdout",
     "output_type": "stream",
     "text": [
      "Hasil prediksi untuk data baru:\n",
      "[101.70431]\n"
     ]
    }
   ],
   "source": [
    "import joblib\n",
    "import pandas as pd\n",
    "\n",
    "# Memuat model yang telah disimpan\n",
    "model = joblib.load('best_model_pipeline.pkl')\n",
    "\n",
    "# Contoh data baru untuk inferensi\n",
    "data_baru = pd.DataFrame({\n",
    "    'Leading_Current_Reactive_Power_kVarh': [1.2],\n",
    "    'Leading_Current_Power_Factor': [95.0],\n",
    "    'Lagging_Current_Reactive.Power_kVarh': [3.4],\n",
    "    'CO2(tCO2)': [0.1],\n",
    "    'Lagging_Current_Power_Factor': [90.0],\n",
    "    'NSM': [3600],\n",
    "    'WeekStatus': ['Weekday'],\n",
    "    'Day_of_week': ['Monday'],\n",
    "    'Load_Type': ['Medium_Load']\n",
    "})\n",
    "\n",
    "# Prediksi konsumsi energi\n",
    "prediksi = model.predict(data_baru)\n",
    "\n",
    "print(\"Hasil prediksi untuk data baru:\")\n",
    "print(prediksi)\n"
   ]
  }
 ],
 "metadata": {
  "kernelspec": {
   "display_name": "base",
   "language": "python",
   "name": "python3"
  },
  "language_info": {
   "codemirror_mode": {
    "name": "ipython",
    "version": 3
   },
   "file_extension": ".py",
   "mimetype": "text/x-python",
   "name": "python",
   "nbconvert_exporter": "python",
   "pygments_lexer": "ipython3",
   "version": "3.9.20"
  }
 },
 "nbformat": 4,
 "nbformat_minor": 2
}
